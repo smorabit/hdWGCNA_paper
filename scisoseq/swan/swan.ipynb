{
 "cells": [
  {
   "cell_type": "code",
   "execution_count": 1,
   "id": "b628e6c4-0b79-4016-be87-ffb0b02c1ebe",
   "metadata": {},
   "outputs": [],
   "source": [
    "import swan_vis as swan\n",
    "import pandas as pd\n",
    "from utils import *"
   ]
  },
  {
   "cell_type": "code",
   "execution_count": 2,
   "id": "69f2d756-d89f-443d-9edb-3efe92ff107a",
   "metadata": {},
   "outputs": [
    {
     "name": "stdout",
     "output_type": "stream",
     "text": [
      "Read in graph from swan.p\n"
     ]
    }
   ],
   "source": [
    "sg = swan.read('swan.p')"
   ]
  },
  {
   "cell_type": "markdown",
   "id": "8c26b6cf-6c6a-40aa-adbd-156e0107a43d",
   "metadata": {},
   "source": [
    "## Difference between TSSs in CD9"
   ]
  },
  {
   "cell_type": "code",
   "execution_count": 13,
   "id": "985bf61a-9c8b-4f55-8023-50e60602a487",
   "metadata": {},
   "outputs": [
    {
     "data": {
      "text/html": [
       "<div>\n",
       "<style scoped>\n",
       "    .dataframe tbody tr th:only-of-type {\n",
       "        vertical-align: middle;\n",
       "    }\n",
       "\n",
       "    .dataframe tbody tr th {\n",
       "        vertical-align: top;\n",
       "    }\n",
       "\n",
       "    .dataframe thead th {\n",
       "        text-align: right;\n",
       "    }\n",
       "</style>\n",
       "<table border=\"1\" class=\"dataframe\">\n",
       "  <thead>\n",
       "    <tr style=\"text-align: right;\">\n",
       "      <th></th>\n",
       "      <th>gid</th>\n",
       "      <th>gname</th>\n",
       "      <th>vertex_id</th>\n",
       "      <th>tss_name</th>\n",
       "    </tr>\n",
       "    <tr>\n",
       "      <th>tss_id</th>\n",
       "      <th></th>\n",
       "      <th></th>\n",
       "      <th></th>\n",
       "      <th></th>\n",
       "    </tr>\n",
       "  </thead>\n",
       "  <tbody>\n",
       "    <tr>\n",
       "      <th>ENSMUSG00000030342.8_1</th>\n",
       "      <td>ENSMUSG00000030342.8</td>\n",
       "      <td>Cd9</td>\n",
       "      <td>617782</td>\n",
       "      <td>Cd9_1</td>\n",
       "    </tr>\n",
       "    <tr>\n",
       "      <th>ENSMUSG00000030342.8_2</th>\n",
       "      <td>ENSMUSG00000030342.8</td>\n",
       "      <td>Cd9</td>\n",
       "      <td>617783</td>\n",
       "      <td>Cd9_2</td>\n",
       "    </tr>\n",
       "    <tr>\n",
       "      <th>ENSMUSG00000030342.8_3</th>\n",
       "      <td>ENSMUSG00000030342.8</td>\n",
       "      <td>Cd9</td>\n",
       "      <td>617784</td>\n",
       "      <td>Cd9_3</td>\n",
       "    </tr>\n",
       "  </tbody>\n",
       "</table>\n",
       "</div>"
      ],
      "text/plain": [
       "                                         gid gname  vertex_id tss_name\n",
       "tss_id                                                                \n",
       "ENSMUSG00000030342.8_1  ENSMUSG00000030342.8   Cd9     617782    Cd9_1\n",
       "ENSMUSG00000030342.8_2  ENSMUSG00000030342.8   Cd9     617783    Cd9_2\n",
       "ENSMUSG00000030342.8_3  ENSMUSG00000030342.8   Cd9     617784    Cd9_3"
      ]
     },
     "execution_count": 13,
     "metadata": {},
     "output_type": "execute_result"
    }
   ],
   "source": [
    "sg.tss_adata.var.loc[sg.tss_adata.var.gid == 'ENSMUSG00000030342.8']"
   ]
  },
  {
   "cell_type": "code",
   "execution_count": 15,
   "id": "8eb26c01-5395-4b8f-b72d-fd88c4215136",
   "metadata": {},
   "outputs": [
    {
     "data": {
      "text/plain": [
       "tid\n",
       "ENSMUSG00000030342.8_0     [617783, 617780, 617761, 617760, 617759, 61775...\n",
       "ENSMUSG00000030342.8_1     [617784, 617780, 617761, 617760, 617759, 61775...\n",
       "ENSMUSG00000030342.8_10    [617784, 617780, 617759, 617758, 617757, 61775...\n",
       "ENSMUSG00000030342.8_11    [617783, 617780, 617761, 617760, 617759, 61775...\n",
       "ENSMUSG00000030342.8_2     [617782, 617780, 617761, 617760, 617759, 61775...\n",
       "ENSMUSG00000030342.8_3     [617783, 617780, 617761, 617760, 617759, 61775...\n",
       "ENSMUSG00000030342.8_4     [617783, 617780, 617761, 617760, 617759, 61775...\n",
       "ENSMUSG00000030342.8_5     [617783, 617780, 617759, 617758, 617757, 61775...\n",
       "ENSMUSG00000030342.8_6     [617783, 617780, 617761, 617760, 617759, 61775...\n",
       "ENSMUSG00000030342.8_7     [617783, 617780, 617761, 617760, 617759, 61775...\n",
       "ENSMUSG00000030342.8_8     [617784, 617780, 617761, 617760, 617759, 61775...\n",
       "ENSMUSG00000030342.8_9     [617783, 617780, 617761, 617760, 617759, 61775...\n",
       "ENSMUST00000032492.8       [617785, 617780, 617761, 617760, 617759, 61775...\n",
       "ENSMUST00000130132.1       [617765, 617764, 617763, 617762, 617761, 61776...\n",
       "ENSMUST00000140024.1                        [617755, 617753, 617752, 617751]\n",
       "Name: loc_path, dtype: object"
      ]
     },
     "execution_count": 15,
     "metadata": {},
     "output_type": "execute_result"
    }
   ],
   "source": [
    "sg.t_df.loc[sg.t_df.gid == 'ENSMUSG00000030342.8'].loc_path"
   ]
  },
  {
   "cell_type": "code",
   "execution_count": 17,
   "id": "5cbb4655-c9da-4432-9536-7ac21d521c93",
   "metadata": {},
   "outputs": [
    {
     "data": {
      "text/html": [
       "<div>\n",
       "<style scoped>\n",
       "    .dataframe tbody tr th:only-of-type {\n",
       "        vertical-align: middle;\n",
       "    }\n",
       "\n",
       "    .dataframe tbody tr th {\n",
       "        vertical-align: top;\n",
       "    }\n",
       "\n",
       "    .dataframe thead th {\n",
       "        text-align: right;\n",
       "    }\n",
       "</style>\n",
       "<table border=\"1\" class=\"dataframe\">\n",
       "  <thead>\n",
       "    <tr style=\"text-align: right;\">\n",
       "      <th></th>\n",
       "      <th>chrom</th>\n",
       "      <th>coord</th>\n",
       "      <th>vertex_id</th>\n",
       "      <th>annotation</th>\n",
       "      <th>internal</th>\n",
       "      <th>TSS</th>\n",
       "      <th>TES</th>\n",
       "    </tr>\n",
       "    <tr>\n",
       "      <th>vertex_id</th>\n",
       "      <th></th>\n",
       "      <th></th>\n",
       "      <th></th>\n",
       "      <th></th>\n",
       "      <th></th>\n",
       "      <th></th>\n",
       "      <th></th>\n",
       "    </tr>\n",
       "  </thead>\n",
       "  <tbody>\n",
       "    <tr>\n",
       "      <th>617782</th>\n",
       "      <td>chr6</td>\n",
       "      <td>125494669</td>\n",
       "      <td>617782</td>\n",
       "      <td>False</td>\n",
       "      <td>False</td>\n",
       "      <td>True</td>\n",
       "      <td>False</td>\n",
       "    </tr>\n",
       "    <tr>\n",
       "      <th>617783</th>\n",
       "      <td>chr6</td>\n",
       "      <td>125494748</td>\n",
       "      <td>617783</td>\n",
       "      <td>False</td>\n",
       "      <td>False</td>\n",
       "      <td>True</td>\n",
       "      <td>False</td>\n",
       "    </tr>\n",
       "    <tr>\n",
       "      <th>617784</th>\n",
       "      <td>chr6</td>\n",
       "      <td>125494765</td>\n",
       "      <td>617784</td>\n",
       "      <td>False</td>\n",
       "      <td>False</td>\n",
       "      <td>True</td>\n",
       "      <td>False</td>\n",
       "    </tr>\n",
       "  </tbody>\n",
       "</table>\n",
       "</div>"
      ],
      "text/plain": [
       "          chrom      coord  vertex_id  annotation  internal   TSS    TES\n",
       "vertex_id                                                               \n",
       "617782     chr6  125494669     617782       False     False  True  False\n",
       "617783     chr6  125494748     617783       False     False  True  False\n",
       "617784     chr6  125494765     617784       False     False  True  False"
      ]
     },
     "execution_count": 17,
     "metadata": {},
     "output_type": "execute_result"
    }
   ],
   "source": [
    "sg.loc_df.loc[[617782, 617783, 617784]]"
   ]
  },
  {
   "cell_type": "code",
   "execution_count": 18,
   "id": "0f32ddcc-90dc-4bbd-927f-f1ab2ea770d9",
   "metadata": {},
   "outputs": [
    {
     "data": {
      "text/plain": [
       "-17"
      ]
     },
     "execution_count": 18,
     "metadata": {},
     "output_type": "execute_result"
    }
   ],
   "source": [
    "125494748-125494765"
   ]
  },
  {
   "cell_type": "code",
   "execution_count": null,
   "id": "b728b6b3-0f95-4ed5-9f78-a13f2f468349",
   "metadata": {},
   "outputs": [],
   "source": []
  },
  {
   "cell_type": "code",
   "execution_count": 18,
   "id": "59b401cb-7375-4f24-a60f-64fe344bc724",
   "metadata": {},
   "outputs": [
    {
     "data": {
      "text/html": [
       "<div>\n",
       "<style scoped>\n",
       "    .dataframe tbody tr th:only-of-type {\n",
       "        vertical-align: middle;\n",
       "    }\n",
       "\n",
       "    .dataframe tbody tr th {\n",
       "        vertical-align: top;\n",
       "    }\n",
       "\n",
       "    .dataframe thead th {\n",
       "        text-align: right;\n",
       "    }\n",
       "</style>\n",
       "<table border=\"1\" class=\"dataframe\">\n",
       "  <thead>\n",
       "    <tr style=\"text-align: right;\">\n",
       "      <th></th>\n",
       "      <th>dataset</th>\n",
       "      <th>total_counts</th>\n",
       "    </tr>\n",
       "  </thead>\n",
       "  <tbody>\n",
       "    <tr>\n",
       "      <th>AAACCTGAGGCGCTCT_1</th>\n",
       "      <td>AAACCTGAGGCGCTCT_1</td>\n",
       "      <td>734.0</td>\n",
       "    </tr>\n",
       "    <tr>\n",
       "      <th>AAACCTGCAACACCTA_1</th>\n",
       "      <td>AAACCTGCAACACCTA_1</td>\n",
       "      <td>447.0</td>\n",
       "    </tr>\n",
       "    <tr>\n",
       "      <th>AAACCTGCATGCCTAA_1</th>\n",
       "      <td>AAACCTGCATGCCTAA_1</td>\n",
       "      <td>1348.0</td>\n",
       "    </tr>\n",
       "    <tr>\n",
       "      <th>AAACCTGGTCGAACAG_1</th>\n",
       "      <td>AAACCTGGTCGAACAG_1</td>\n",
       "      <td>151.0</td>\n",
       "    </tr>\n",
       "    <tr>\n",
       "      <th>AAACCTGGTTAAGACA_1</th>\n",
       "      <td>AAACCTGGTTAAGACA_1</td>\n",
       "      <td>276.0</td>\n",
       "    </tr>\n",
       "  </tbody>\n",
       "</table>\n",
       "</div>"
      ],
      "text/plain": [
       "                               dataset  total_counts\n",
       "AAACCTGAGGCGCTCT_1  AAACCTGAGGCGCTCT_1         734.0\n",
       "AAACCTGCAACACCTA_1  AAACCTGCAACACCTA_1         447.0\n",
       "AAACCTGCATGCCTAA_1  AAACCTGCATGCCTAA_1        1348.0\n",
       "AAACCTGGTCGAACAG_1  AAACCTGGTCGAACAG_1         151.0\n",
       "AAACCTGGTTAAGACA_1  AAACCTGGTTAAGACA_1         276.0"
      ]
     },
     "execution_count": 18,
     "metadata": {},
     "output_type": "execute_result"
    }
   ],
   "source": [
    "sg.adata.obs.head()"
   ]
  },
  {
   "cell_type": "code",
   "execution_count": 19,
   "id": "35db3f3b-445a-418f-bebc-43a77fa6a7ee",
   "metadata": {},
   "outputs": [
    {
     "name": "stderr",
     "output_type": "stream",
     "text": [
      "/Users/fairliereese/miniconda3/lib/python3.7/site-packages/anndata/_core/anndata.py:794: UserWarning: \n",
      "AnnData expects .obs.index to contain strings, but got values like:\n",
      "    [0, 1, 2, 3, 4]\n",
      "\n",
      "    Inferred to be: integer\n",
      "\n",
      "  value_idx = self._prep_dim_index(value.index, attr)\n"
     ]
    }
   ],
   "source": [
    "metadata = 'sciso_meta.tsv'\n",
    "sg.add_metadata(metadata)"
   ]
  },
  {
   "cell_type": "code",
   "execution_count": 20,
   "id": "42825b36-c3a0-4456-b455-51aacd706ad0",
   "metadata": {},
   "outputs": [],
   "source": [
    "c_dict, order = get_celltype_colors(sg)\n",
    "sg.set_metadata_colors('annotation', c_dict)"
   ]
  },
  {
   "cell_type": "code",
   "execution_count": 21,
   "id": "b554c063-5bd5-4180-ab62-a3b9b463fc6e",
   "metadata": {},
   "outputs": [
    {
     "data": {
      "text/html": [
       "<div>\n",
       "<style scoped>\n",
       "    .dataframe tbody tr th:only-of-type {\n",
       "        vertical-align: middle;\n",
       "    }\n",
       "\n",
       "    .dataframe tbody tr th {\n",
       "        vertical-align: top;\n",
       "    }\n",
       "\n",
       "    .dataframe thead th {\n",
       "        text-align: right;\n",
       "    }\n",
       "</style>\n",
       "<table border=\"1\" class=\"dataframe\">\n",
       "  <thead>\n",
       "    <tr style=\"text-align: right;\">\n",
       "      <th></th>\n",
       "      <th>tid</th>\n",
       "    </tr>\n",
       "    <tr>\n",
       "      <th>tid</th>\n",
       "      <th></th>\n",
       "    </tr>\n",
       "  </thead>\n",
       "  <tbody>\n",
       "    <tr>\n",
       "      <th>ENSMUSG00000028383.17_25</th>\n",
       "      <td>ENSMUSG00000028383.17_25</td>\n",
       "    </tr>\n",
       "    <tr>\n",
       "      <th>ENSMUSG00000029103.16_10</th>\n",
       "      <td>ENSMUSG00000029103.16_10</td>\n",
       "    </tr>\n",
       "    <tr>\n",
       "      <th>ENSMUSG00000029076.14_0</th>\n",
       "      <td>ENSMUSG00000029076.14_0</td>\n",
       "    </tr>\n",
       "    <tr>\n",
       "      <th>ENSMUSG00000028884.14_1</th>\n",
       "      <td>ENSMUSG00000028884.14_1</td>\n",
       "    </tr>\n",
       "    <tr>\n",
       "      <th>ENSMUSG00000028884.14_2</th>\n",
       "      <td>ENSMUSG00000028884.14_2</td>\n",
       "    </tr>\n",
       "  </tbody>\n",
       "</table>\n",
       "</div>"
      ],
      "text/plain": [
       "                                               tid\n",
       "tid                                               \n",
       "ENSMUSG00000028383.17_25  ENSMUSG00000028383.17_25\n",
       "ENSMUSG00000029103.16_10  ENSMUSG00000029103.16_10\n",
       "ENSMUSG00000029076.14_0    ENSMUSG00000029076.14_0\n",
       "ENSMUSG00000028884.14_1    ENSMUSG00000028884.14_1\n",
       "ENSMUSG00000028884.14_2    ENSMUSG00000028884.14_2"
      ]
     },
     "execution_count": 21,
     "metadata": {},
     "output_type": "execute_result"
    }
   ],
   "source": [
    "sg.adata.var.head()"
   ]
  },
  {
   "cell_type": "code",
   "execution_count": 22,
   "id": "002b29ea-cdac-4af1-ab11-6a6609c6481e",
   "metadata": {},
   "outputs": [
    {
     "name": "stdout",
     "output_type": "stream",
     "text": [
      "Saving graph as swan.p\n"
     ]
    }
   ],
   "source": [
    "sg.save_graph('swan')"
   ]
  },
  {
   "cell_type": "code",
   "execution_count": 7,
   "id": "5d74c6ea-1a78-4225-a9fe-3f74564d4c17",
   "metadata": {},
   "outputs": [],
   "source": [
    "def make_reports(gname):\n",
    "    gb='annotation'\n",
    "    sg.gen_report(gname,\n",
    "                  prefix='figures/{}'.format(gname.lower()),\n",
    "                  layer='pi',\n",
    "                  cmap='magma',\n",
    "                  groupby=gb,\n",
    "                  transcript_col='tid',\n",
    "                  metadata_cols=[gb],\n",
    "                  display_numbers=True,\n",
    "                  datasets={'annotation': ['RGL', 'NIPCs', 'ASC', 'Ependymal']},\n",
    "                  browser=True)\n",
    "    \n",
    "    sg.gen_report(gname,\n",
    "              prefix='figures/{}'.format(gname.lower()),\n",
    "              layer='tpm',\n",
    "              cmap='viridis',\n",
    "              groupby=gb,\n",
    "              transcript_col='tid',\n",
    "              metadata_cols=[gb],\n",
    "              display_numbers=True,\n",
    "              indicate_novel=True,\n",
    "              datasets={'annotation': ['RGL', 'NIPCs', 'ASC', 'Ependymal']})"
   ]
  },
  {
   "cell_type": "code",
   "execution_count": null,
   "id": "f4cc719d-f8b0-43b5-80be-3adbc21fb9fa",
   "metadata": {},
   "outputs": [],
   "source": [
    "gname='Gfap'\n",
    "make_reports(gname)"
   ]
  },
  {
   "cell_type": "code",
   "execution_count": 16,
   "id": "605f7275-4484-4537-b8ed-9d6d24cca4af",
   "metadata": {},
   "outputs": [
    {
     "name": "stdout",
     "output_type": "stream",
     "text": [
      "\n",
      "Plotting transcripts for ENSMUSG00000034120.18\n",
      "Saving transcript path graph for ENSMUSG00000034120.18_0 as figures/srsf2_browser_ENSMUSG00000034120.18_0_path.png\n",
      "Saving transcript path graph for ENSMUSG00000034120.18_2 as figures/srsf2_browser_ENSMUSG00000034120.18_2_path.png\n",
      "Saving transcript path graph for ENSMUSG00000034120.18_1 as figures/srsf2_browser_ENSMUSG00000034120.18_1_path.png\n",
      "Saving transcript path graph for ENSMUSG00000034120.18_3 as figures/srsf2_browser_ENSMUSG00000034120.18_3_path.png\n",
      "Saving transcript path graph for ENSMUSG00000034120.18_5 as figures/srsf2_browser_ENSMUSG00000034120.18_5_path.png\n",
      "Saving transcript path graph for ENSMUSG00000034120.18_9 as figures/srsf2_browser_ENSMUSG00000034120.18_9_path.png\n",
      "Saving transcript path graph for ENSMUSG00000034120.18_4 as figures/srsf2_browser_ENSMUSG00000034120.18_4_path.png\n",
      "Saving transcript path graph for ENSMUSG00000034120.18_8 as figures/srsf2_browser_ENSMUSG00000034120.18_8_path.png\n",
      "Saving transcript path graph for ENSMUSG00000034120.18_7 as figures/srsf2_browser_ENSMUSG00000034120.18_7_path.png\n",
      "Saving transcript path graph for ENSMUSG00000034120.18_12 as figures/srsf2_browser_ENSMUSG00000034120.18_12_path.png\n",
      "Saving transcript path graph for ENSMUSG00000034120.18_13 as figures/srsf2_browser_ENSMUSG00000034120.18_13_path.png\n",
      "Saving transcript path graph for ENSMUSG00000034120.18_10 as figures/srsf2_browser_ENSMUSG00000034120.18_10_path.png\n",
      "Saving transcript path graph for ENSMUSG00000034120.18_26 as figures/srsf2_browser_ENSMUSG00000034120.18_26_path.png\n",
      "Saving transcript path graph for ENSMUSG00000034120.18_23 as figures/srsf2_browser_ENSMUSG00000034120.18_23_path.png\n",
      "Saving transcript path graph for ENSMUSG00000034120.18_14 as figures/srsf2_browser_ENSMUSG00000034120.18_14_path.png\n",
      "Saving transcript path graph for ENSMUSG00000034120.18_15 as figures/srsf2_browser_ENSMUSG00000034120.18_15_path.png\n",
      "Saving transcript path graph for ENSMUSG00000034120.18_16 as figures/srsf2_browser_ENSMUSG00000034120.18_16_path.png\n",
      "Saving transcript path graph for ENSMUSG00000034120.18_21 as figures/srsf2_browser_ENSMUSG00000034120.18_21_path.png\n",
      "Saving transcript path graph for ENSMUSG00000034120.18_6 as figures/srsf2_browser_ENSMUSG00000034120.18_6_path.png\n",
      "Saving transcript path graph for ENSMUSG00000034120.18_20 as figures/srsf2_browser_ENSMUSG00000034120.18_20_path.png\n",
      "Saving transcript path graph for ENSMUSG00000034120.18_28 as figures/srsf2_browser_ENSMUSG00000034120.18_28_path.png\n",
      "Saving transcript path graph for ENSMUSG00000034120.18_25 as figures/srsf2_browser_ENSMUSG00000034120.18_25_path.png\n",
      "Saving transcript path graph for ENSMUSG00000034120.18_37 as figures/srsf2_browser_ENSMUSG00000034120.18_37_path.png\n",
      "Saving transcript path graph for ENSMUSG00000034120.18_19 as figures/srsf2_browser_ENSMUSG00000034120.18_19_path.png\n",
      "Saving transcript path graph for ENSMUSG00000034120.18_29 as figures/srsf2_browser_ENSMUSG00000034120.18_29_path.png\n",
      "Saving transcript path graph for ENSMUSG00000034120.18_11 as figures/srsf2_browser_ENSMUSG00000034120.18_11_path.png\n",
      "Saving transcript path graph for ENSMUSG00000034120.18_31 as figures/srsf2_browser_ENSMUSG00000034120.18_31_path.png\n",
      "Saving transcript path graph for ENSMUSG00000034120.18_30 as figures/srsf2_browser_ENSMUSG00000034120.18_30_path.png\n",
      "Saving transcript path graph for ENSMUSG00000034120.18_52 as figures/srsf2_browser_ENSMUSG00000034120.18_52_path.png\n",
      "Saving transcript path graph for ENSMUSG00000034120.18_58 as figures/srsf2_browser_ENSMUSG00000034120.18_58_path.png\n",
      "Saving transcript path graph for ENSMUSG00000034120.18_43 as figures/srsf2_browser_ENSMUSG00000034120.18_43_path.png\n",
      "Saving transcript path graph for ENSMUSG00000034120.18_18 as figures/srsf2_browser_ENSMUSG00000034120.18_18_path.png\n",
      "Saving transcript path graph for ENSMUSG00000034120.18_38 as figures/srsf2_browser_ENSMUSG00000034120.18_38_path.png\n",
      "Saving transcript path graph for ENSMUSG00000034120.18_44 as figures/srsf2_browser_ENSMUSG00000034120.18_44_path.png\n",
      "Saving transcript path graph for ENSMUSG00000034120.18_24 as figures/srsf2_browser_ENSMUSG00000034120.18_24_path.png\n",
      "Saving transcript path graph for ENSMUSG00000034120.18_17 as figures/srsf2_browser_ENSMUSG00000034120.18_17_path.png\n",
      "Generating report for ENSMUSG00000034120.18\n",
      "\n",
      "Plotting transcripts for ENSMUSG00000034120.18\n",
      "Saving transcript path graph for ENSMUSG00000034120.18_0 as figures/srsf2_novel_ENSMUSG00000034120.18_0_path.png\n",
      "Saving transcript path graph for ENSMUSG00000034120.18_2 as figures/srsf2_novel_ENSMUSG00000034120.18_2_path.png\n",
      "Saving transcript path graph for ENSMUSG00000034120.18_1 as figures/srsf2_novel_ENSMUSG00000034120.18_1_path.png\n",
      "Saving transcript path graph for ENSMUSG00000034120.18_3 as figures/srsf2_novel_ENSMUSG00000034120.18_3_path.png\n",
      "Saving transcript path graph for ENSMUSG00000034120.18_5 as figures/srsf2_novel_ENSMUSG00000034120.18_5_path.png\n",
      "Saving transcript path graph for ENSMUSG00000034120.18_9 as figures/srsf2_novel_ENSMUSG00000034120.18_9_path.png\n",
      "Saving transcript path graph for ENSMUSG00000034120.18_4 as figures/srsf2_novel_ENSMUSG00000034120.18_4_path.png\n",
      "Saving transcript path graph for ENSMUSG00000034120.18_8 as figures/srsf2_novel_ENSMUSG00000034120.18_8_path.png\n",
      "Saving transcript path graph for ENSMUSG00000034120.18_7 as figures/srsf2_novel_ENSMUSG00000034120.18_7_path.png\n",
      "Saving transcript path graph for ENSMUSG00000034120.18_12 as figures/srsf2_novel_ENSMUSG00000034120.18_12_path.png\n",
      "Saving transcript path graph for ENSMUSG00000034120.18_13 as figures/srsf2_novel_ENSMUSG00000034120.18_13_path.png\n",
      "Saving transcript path graph for ENSMUSG00000034120.18_10 as figures/srsf2_novel_ENSMUSG00000034120.18_10_path.png\n",
      "Saving transcript path graph for ENSMUSG00000034120.18_26 as figures/srsf2_novel_ENSMUSG00000034120.18_26_path.png\n",
      "Saving transcript path graph for ENSMUSG00000034120.18_23 as figures/srsf2_novel_ENSMUSG00000034120.18_23_path.png\n",
      "Saving transcript path graph for ENSMUSG00000034120.18_14 as figures/srsf2_novel_ENSMUSG00000034120.18_14_path.png\n",
      "Saving transcript path graph for ENSMUSG00000034120.18_15 as figures/srsf2_novel_ENSMUSG00000034120.18_15_path.png\n",
      "Saving transcript path graph for ENSMUSG00000034120.18_16 as figures/srsf2_novel_ENSMUSG00000034120.18_16_path.png\n",
      "Saving transcript path graph for ENSMUSG00000034120.18_21 as figures/srsf2_novel_ENSMUSG00000034120.18_21_path.png\n",
      "Saving transcript path graph for ENSMUSG00000034120.18_6 as figures/srsf2_novel_ENSMUSG00000034120.18_6_path.png\n",
      "Saving transcript path graph for ENSMUSG00000034120.18_20 as figures/srsf2_novel_ENSMUSG00000034120.18_20_path.png\n",
      "Saving transcript path graph for ENSMUSG00000034120.18_28 as figures/srsf2_novel_ENSMUSG00000034120.18_28_path.png\n",
      "Saving transcript path graph for ENSMUSG00000034120.18_25 as figures/srsf2_novel_ENSMUSG00000034120.18_25_path.png\n",
      "Saving transcript path graph for ENSMUSG00000034120.18_37 as figures/srsf2_novel_ENSMUSG00000034120.18_37_path.png\n",
      "Saving transcript path graph for ENSMUSG00000034120.18_19 as figures/srsf2_novel_ENSMUSG00000034120.18_19_path.png\n",
      "Saving transcript path graph for ENSMUSG00000034120.18_29 as figures/srsf2_novel_ENSMUSG00000034120.18_29_path.png\n",
      "Saving transcript path graph for ENSMUSG00000034120.18_11 as figures/srsf2_novel_ENSMUSG00000034120.18_11_path.png\n",
      "Saving transcript path graph for ENSMUSG00000034120.18_31 as figures/srsf2_novel_ENSMUSG00000034120.18_31_path.png\n",
      "Saving transcript path graph for ENSMUSG00000034120.18_30 as figures/srsf2_novel_ENSMUSG00000034120.18_30_path.png\n",
      "Saving transcript path graph for ENSMUSG00000034120.18_52 as figures/srsf2_novel_ENSMUSG00000034120.18_52_path.png\n",
      "Saving transcript path graph for ENSMUSG00000034120.18_58 as figures/srsf2_novel_ENSMUSG00000034120.18_58_path.png\n",
      "Saving transcript path graph for ENSMUSG00000034120.18_43 as figures/srsf2_novel_ENSMUSG00000034120.18_43_path.png\n",
      "Saving transcript path graph for ENSMUSG00000034120.18_18 as figures/srsf2_novel_ENSMUSG00000034120.18_18_path.png\n",
      "Saving transcript path graph for ENSMUSG00000034120.18_38 as figures/srsf2_novel_ENSMUSG00000034120.18_38_path.png\n",
      "Saving transcript path graph for ENSMUSG00000034120.18_44 as figures/srsf2_novel_ENSMUSG00000034120.18_44_path.png\n",
      "Saving transcript path graph for ENSMUSG00000034120.18_24 as figures/srsf2_novel_ENSMUSG00000034120.18_24_path.png\n",
      "Saving transcript path graph for ENSMUSG00000034120.18_17 as figures/srsf2_novel_ENSMUSG00000034120.18_17_path.png\n",
      "Generating report for ENSMUSG00000034120.18\n"
     ]
    }
   ],
   "source": [
    "gname = 'Srsf2'\n",
    "make_reports(gname)"
   ]
  },
  {
   "cell_type": "code",
   "execution_count": 17,
   "id": "d5a5ca3f-be06-4c28-9724-4a95578192ea",
   "metadata": {},
   "outputs": [
    {
     "ename": "NameError",
     "evalue": "name 'make_repors' is not defined",
     "output_type": "error",
     "traceback": [
      "\u001b[0;31m---------------------------------------------------------------------------\u001b[0m",
      "\u001b[0;31mNameError\u001b[0m                                 Traceback (most recent call last)",
      "\u001b[0;32m<ipython-input-17-11bf51527a65>\u001b[0m in \u001b[0;36m<module>\u001b[0;34m\u001b[0m\n\u001b[1;32m      1\u001b[0m \u001b[0mgname\u001b[0m \u001b[0;34m=\u001b[0m \u001b[0;34m'Srsf3'\u001b[0m\u001b[0;34m\u001b[0m\u001b[0;34m\u001b[0m\u001b[0m\n\u001b[0;32m----> 2\u001b[0;31m \u001b[0mmake_repors\u001b[0m\u001b[0;34m(\u001b[0m\u001b[0mgname\u001b[0m\u001b[0;34m)\u001b[0m\u001b[0;34m\u001b[0m\u001b[0;34m\u001b[0m\u001b[0m\n\u001b[0m",
      "\u001b[0;31mNameError\u001b[0m: name 'make_repors' is not defined"
     ]
    }
   ],
   "source": [
    "gname = 'Srsf3'\n",
    "make_reports(gname)"
   ]
  },
  {
   "cell_type": "code",
   "execution_count": null,
   "id": "72c8b1eb-18b6-42b9-949c-4c9e05ae07b4",
   "metadata": {},
   "outputs": [],
   "source": [
    "gname = 'Srsf5'\n",
    "make_reports(gname)"
   ]
  },
  {
   "cell_type": "code",
   "execution_count": null,
   "id": "055d436c-e980-469d-84b4-eec46108c82f",
   "metadata": {},
   "outputs": [],
   "source": [
    "gname = 'Srsf6'\n",
    "make_reports(gname)"
   ]
  },
  {
   "cell_type": "code",
   "execution_count": 23,
   "id": "40936452-1897-453c-b08a-d4cf725ef1ea",
   "metadata": {},
   "outputs": [
    {
     "name": "stdout",
     "output_type": "stream",
     "text": [
      "\n",
      "Plotting transcripts for ENSMUSG00000057497.8\n",
      "Saving transcript path graph for ENSMUSG00000057497.8_0 as figures/ensmusg00000057497.8_browser_ENSMUSG00000057497.8_0_path.png\n",
      "Saving transcript path graph for ENSMUSG00000057497.8_1 as figures/ensmusg00000057497.8_browser_ENSMUSG00000057497.8_1_path.png\n",
      "Saving transcript path graph for ENSMUSG00000057497.8_2 as figures/ensmusg00000057497.8_browser_ENSMUSG00000057497.8_2_path.png\n",
      "Saving transcript path graph for ENSMUSG00000057497.8_4 as figures/ensmusg00000057497.8_browser_ENSMUSG00000057497.8_4_path.png\n",
      "Saving transcript path graph for ENSMUSG00000057497.8_3 as figures/ensmusg00000057497.8_browser_ENSMUSG00000057497.8_3_path.png\n",
      "Saving transcript path graph for ENSMUSG00000057497.8_5 as figures/ensmusg00000057497.8_browser_ENSMUSG00000057497.8_5_path.png\n",
      "Generating report for ENSMUSG00000057497.8\n",
      "\n",
      "Plotting transcripts for ENSMUSG00000057497.8\n",
      "Saving transcript path graph for ENSMUSG00000057497.8_0 as figures/ensmusg00000057497.8_novel_ENSMUSG00000057497.8_0_path.png\n",
      "Saving transcript path graph for ENSMUSG00000057497.8_1 as figures/ensmusg00000057497.8_novel_ENSMUSG00000057497.8_1_path.png\n",
      "Saving transcript path graph for ENSMUSG00000057497.8_2 as figures/ensmusg00000057497.8_novel_ENSMUSG00000057497.8_2_path.png\n",
      "Saving transcript path graph for ENSMUSG00000057497.8_4 as figures/ensmusg00000057497.8_novel_ENSMUSG00000057497.8_4_path.png\n",
      "Saving transcript path graph for ENSMUSG00000057497.8_3 as figures/ensmusg00000057497.8_novel_ENSMUSG00000057497.8_3_path.png\n",
      "Saving transcript path graph for ENSMUSG00000057497.8_5 as figures/ensmusg00000057497.8_novel_ENSMUSG00000057497.8_5_path.png\n",
      "Generating report for ENSMUSG00000057497.8\n"
     ]
    }
   ],
   "source": [
    "gname = 'ENSMUSG00000057497.8'\n",
    "make_reports(gname)"
   ]
  },
  {
   "cell_type": "code",
   "execution_count": 14,
   "id": "2970dff2-3439-4ee9-a55d-34cee9c970f2",
   "metadata": {},
   "outputs": [
    {
     "name": "stdout",
     "output_type": "stream",
     "text": [
      "\n",
      "Plotting transcripts for ENSMUSG00000048001.7\n",
      "Saving transcript path graph for ENSMUSG00000048001.7_0 as figures/hes5_browser_ENSMUSG00000048001.7_0_path.png\n",
      "Saving transcript path graph for ENSMUSG00000048001.7_2 as figures/hes5_browser_ENSMUSG00000048001.7_2_path.png\n",
      "Saving transcript path graph for ENSMUSG00000048001.7_1 as figures/hes5_browser_ENSMUSG00000048001.7_1_path.png\n",
      "Saving transcript path graph for ENSMUSG00000048001.7_3 as figures/hes5_browser_ENSMUSG00000048001.7_3_path.png\n",
      "Saving transcript path graph for ENSMUSG00000048001.7_4 as figures/hes5_browser_ENSMUSG00000048001.7_4_path.png\n",
      "Saving transcript path graph for ENSMUSG00000048001.7_5 as figures/hes5_browser_ENSMUSG00000048001.7_5_path.png\n",
      "Saving transcript path graph for ENSMUSG00000048001.7_6 as figures/hes5_browser_ENSMUSG00000048001.7_6_path.png\n",
      "Saving transcript path graph for ENSMUSG00000048001.7_8 as figures/hes5_browser_ENSMUSG00000048001.7_8_path.png\n",
      "Saving transcript path graph for ENSMUSG00000048001.7_9 as figures/hes5_browser_ENSMUSG00000048001.7_9_path.png\n",
      "Saving transcript path graph for ENSMUSG00000048001.7_10 as figures/hes5_browser_ENSMUSG00000048001.7_10_path.png\n",
      "Saving transcript path graph for ENSMUSG00000048001.7_7 as figures/hes5_browser_ENSMUSG00000048001.7_7_path.png\n",
      "Generating report for ENSMUSG00000048001.7\n",
      "\n",
      "Plotting transcripts for ENSMUSG00000048001.7\n",
      "Saving transcript path graph for ENSMUSG00000048001.7_0 as figures/hes5_novel_ENSMUSG00000048001.7_0_path.png\n",
      "Saving transcript path graph for ENSMUSG00000048001.7_2 as figures/hes5_novel_ENSMUSG00000048001.7_2_path.png\n",
      "Saving transcript path graph for ENSMUSG00000048001.7_1 as figures/hes5_novel_ENSMUSG00000048001.7_1_path.png\n",
      "Saving transcript path graph for ENSMUSG00000048001.7_3 as figures/hes5_novel_ENSMUSG00000048001.7_3_path.png\n",
      "Saving transcript path graph for ENSMUSG00000048001.7_4 as figures/hes5_novel_ENSMUSG00000048001.7_4_path.png\n",
      "Saving transcript path graph for ENSMUSG00000048001.7_5 as figures/hes5_novel_ENSMUSG00000048001.7_5_path.png\n",
      "Saving transcript path graph for ENSMUSG00000048001.7_6 as figures/hes5_novel_ENSMUSG00000048001.7_6_path.png\n",
      "Saving transcript path graph for ENSMUSG00000048001.7_8 as figures/hes5_novel_ENSMUSG00000048001.7_8_path.png\n",
      "Saving transcript path graph for ENSMUSG00000048001.7_9 as figures/hes5_novel_ENSMUSG00000048001.7_9_path.png\n",
      "Saving transcript path graph for ENSMUSG00000048001.7_10 as figures/hes5_novel_ENSMUSG00000048001.7_10_path.png\n",
      "Saving transcript path graph for ENSMUSG00000048001.7_7 as figures/hes5_novel_ENSMUSG00000048001.7_7_path.png\n",
      "Generating report for ENSMUSG00000048001.7\n"
     ]
    }
   ],
   "source": [
    "gname = 'Hes5'\n",
    "make_reports(gname)"
   ]
  },
  {
   "cell_type": "code",
   "execution_count": 11,
   "id": "8adb711e-5856-4c38-a12c-37b44ab198d7",
   "metadata": {},
   "outputs": [],
   "source": [
    "# sg.t_df.loc[sg.t_df.gid == 'ENSMUSG00000048001.7']"
   ]
  },
  {
   "cell_type": "code",
   "execution_count": 9,
   "id": "58bde264-f378-4434-ab7d-ea21522ee7cd",
   "metadata": {},
   "outputs": [],
   "source": [
    "# make reports for all of the genes that sam gave me\n",
    "df = pd.read_csv('multimod_genes.csv')\n",
    "gnames = df.gene_name.unique().tolist()\n",
    "# for g in gnames\n",
    "#     if g in sg.t_df.gname.tolist():\n",
    "        # make_reports(gname)"
   ]
  },
  {
   "cell_type": "code",
   "execution_count": 13,
   "id": "842364f9-eb7a-45b2-9d84-b8c08b9f96cb",
   "metadata": {},
   "outputs": [
    {
     "data": {
      "text/plain": [
       "14"
      ]
     },
     "execution_count": 13,
     "metadata": {},
     "output_type": "execute_result"
    }
   ],
   "source": [
    "gnames.index('Fam136a')"
   ]
  },
  {
   "cell_type": "code",
   "execution_count": 11,
   "id": "64435a4e-acb7-4c1a-83b3-2e65963d074a",
   "metadata": {},
   "outputs": [
    {
     "data": {
      "text/html": [
       "<div>\n",
       "<style scoped>\n",
       "    .dataframe tbody tr th:only-of-type {\n",
       "        vertical-align: middle;\n",
       "    }\n",
       "\n",
       "    .dataframe tbody tr th {\n",
       "        vertical-align: top;\n",
       "    }\n",
       "\n",
       "    .dataframe thead th {\n",
       "        text-align: right;\n",
       "    }\n",
       "</style>\n",
       "<table border=\"1\" class=\"dataframe\">\n",
       "  <thead>\n",
       "    <tr style=\"text-align: right;\">\n",
       "      <th></th>\n",
       "      <th>tname</th>\n",
       "      <th>gid</th>\n",
       "      <th>gname</th>\n",
       "      <th>path</th>\n",
       "      <th>tid</th>\n",
       "      <th>loc_path</th>\n",
       "      <th>annotation</th>\n",
       "      <th>novelty</th>\n",
       "    </tr>\n",
       "    <tr>\n",
       "      <th>tid</th>\n",
       "      <th></th>\n",
       "      <th></th>\n",
       "      <th></th>\n",
       "      <th></th>\n",
       "      <th></th>\n",
       "      <th></th>\n",
       "      <th></th>\n",
       "      <th></th>\n",
       "    </tr>\n",
       "  </thead>\n",
       "  <tbody>\n",
       "    <tr>\n",
       "      <th>ENSMUSG00000000001.4_0</th>\n",
       "      <td>ENSMUSG00000000001.4_0</td>\n",
       "      <td>ENSMUSG00000000001.4</td>\n",
       "      <td>Gnai3</td>\n",
       "      <td>[775653, 127041, 127042, 127043, 127044, 12704...</td>\n",
       "      <td>ENSMUSG00000000001.4_0</td>\n",
       "      <td>[471869, 471867, 471866, 471865, 471864, 47186...</td>\n",
       "      <td>False</td>\n",
       "      <td>Undefined</td>\n",
       "    </tr>\n",
       "    <tr>\n",
       "      <th>ENSMUSG00000000001.4_1</th>\n",
       "      <td>ENSMUSG00000000001.4_1</td>\n",
       "      <td>ENSMUSG00000000001.4</td>\n",
       "      <td>Gnai3</td>\n",
       "      <td>[775653, 127041, 127042, 127043, 127044, 12704...</td>\n",
       "      <td>ENSMUSG00000000001.4_1</td>\n",
       "      <td>[471869, 471867, 471866, 471865, 471864, 47186...</td>\n",
       "      <td>False</td>\n",
       "      <td>Undefined</td>\n",
       "    </tr>\n",
       "    <tr>\n",
       "      <th>ENSMUSG00000000001.4_2</th>\n",
       "      <td>ENSMUSG00000000001.4_2</td>\n",
       "      <td>ENSMUSG00000000001.4</td>\n",
       "      <td>Gnai3</td>\n",
       "      <td>[775653, 127041, 127042, 127043, 127044, 12704...</td>\n",
       "      <td>ENSMUSG00000000001.4_2</td>\n",
       "      <td>[471869, 471867, 471866, 471865, 471864, 47186...</td>\n",
       "      <td>False</td>\n",
       "      <td>Undefined</td>\n",
       "    </tr>\n",
       "    <tr>\n",
       "      <th>ENSMUSG00000000001.4_3</th>\n",
       "      <td>ENSMUSG00000000001.4_3</td>\n",
       "      <td>ENSMUSG00000000001.4</td>\n",
       "      <td>Gnai3</td>\n",
       "      <td>[775653, 127041, 127042, 127043, 127044, 12704...</td>\n",
       "      <td>ENSMUSG00000000001.4_3</td>\n",
       "      <td>[471869, 471867, 471866, 471865, 471864, 47186...</td>\n",
       "      <td>False</td>\n",
       "      <td>Undefined</td>\n",
       "    </tr>\n",
       "    <tr>\n",
       "      <th>ENSMUSG00000000001.4_4</th>\n",
       "      <td>ENSMUSG00000000001.4_4</td>\n",
       "      <td>ENSMUSG00000000001.4</td>\n",
       "      <td>Gnai3</td>\n",
       "      <td>[775653, 127041, 127042, 127043, 127044, 12704...</td>\n",
       "      <td>ENSMUSG00000000001.4_4</td>\n",
       "      <td>[471869, 471867, 471866, 471865, 471864, 47186...</td>\n",
       "      <td>False</td>\n",
       "      <td>Undefined</td>\n",
       "    </tr>\n",
       "  </tbody>\n",
       "</table>\n",
       "</div>"
      ],
      "text/plain": [
       "                                         tname                   gid  gname  \\\n",
       "tid                                                                           \n",
       "ENSMUSG00000000001.4_0  ENSMUSG00000000001.4_0  ENSMUSG00000000001.4  Gnai3   \n",
       "ENSMUSG00000000001.4_1  ENSMUSG00000000001.4_1  ENSMUSG00000000001.4  Gnai3   \n",
       "ENSMUSG00000000001.4_2  ENSMUSG00000000001.4_2  ENSMUSG00000000001.4  Gnai3   \n",
       "ENSMUSG00000000001.4_3  ENSMUSG00000000001.4_3  ENSMUSG00000000001.4  Gnai3   \n",
       "ENSMUSG00000000001.4_4  ENSMUSG00000000001.4_4  ENSMUSG00000000001.4  Gnai3   \n",
       "\n",
       "                                                                     path  \\\n",
       "tid                                                                         \n",
       "ENSMUSG00000000001.4_0  [775653, 127041, 127042, 127043, 127044, 12704...   \n",
       "ENSMUSG00000000001.4_1  [775653, 127041, 127042, 127043, 127044, 12704...   \n",
       "ENSMUSG00000000001.4_2  [775653, 127041, 127042, 127043, 127044, 12704...   \n",
       "ENSMUSG00000000001.4_3  [775653, 127041, 127042, 127043, 127044, 12704...   \n",
       "ENSMUSG00000000001.4_4  [775653, 127041, 127042, 127043, 127044, 12704...   \n",
       "\n",
       "                                           tid  \\\n",
       "tid                                              \n",
       "ENSMUSG00000000001.4_0  ENSMUSG00000000001.4_0   \n",
       "ENSMUSG00000000001.4_1  ENSMUSG00000000001.4_1   \n",
       "ENSMUSG00000000001.4_2  ENSMUSG00000000001.4_2   \n",
       "ENSMUSG00000000001.4_3  ENSMUSG00000000001.4_3   \n",
       "ENSMUSG00000000001.4_4  ENSMUSG00000000001.4_4   \n",
       "\n",
       "                                                                 loc_path  \\\n",
       "tid                                                                         \n",
       "ENSMUSG00000000001.4_0  [471869, 471867, 471866, 471865, 471864, 47186...   \n",
       "ENSMUSG00000000001.4_1  [471869, 471867, 471866, 471865, 471864, 47186...   \n",
       "ENSMUSG00000000001.4_2  [471869, 471867, 471866, 471865, 471864, 47186...   \n",
       "ENSMUSG00000000001.4_3  [471869, 471867, 471866, 471865, 471864, 47186...   \n",
       "ENSMUSG00000000001.4_4  [471869, 471867, 471866, 471865, 471864, 47186...   \n",
       "\n",
       "                        annotation    novelty  \n",
       "tid                                            \n",
       "ENSMUSG00000000001.4_0       False  Undefined  \n",
       "ENSMUSG00000000001.4_1       False  Undefined  \n",
       "ENSMUSG00000000001.4_2       False  Undefined  \n",
       "ENSMUSG00000000001.4_3       False  Undefined  \n",
       "ENSMUSG00000000001.4_4       False  Undefined  "
      ]
     },
     "execution_count": 11,
     "metadata": {},
     "output_type": "execute_result"
    }
   ],
   "source": [
    "sg.t_df.head()"
   ]
  },
  {
   "cell_type": "code",
   "execution_count": null,
   "id": "23a2f480-9d57-46aa-8072-58d151979c93",
   "metadata": {},
   "outputs": [],
   "source": []
  }
 ],
 "metadata": {
  "kernelspec": {
   "display_name": "Python 3",
   "language": "python",
   "name": "python3"
  },
  "language_info": {
   "codemirror_mode": {
    "name": "ipython",
    "version": 3
   },
   "file_extension": ".py",
   "mimetype": "text/x-python",
   "name": "python",
   "nbconvert_exporter": "python",
   "pygments_lexer": "ipython3",
   "version": "3.7.4"
  }
 },
 "nbformat": 4,
 "nbformat_minor": 5
}
